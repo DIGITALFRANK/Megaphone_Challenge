{
 "cells": [
  {
   "cell_type": "code",
   "execution_count": 2,
   "metadata": {},
   "outputs": [],
   "source": [
    "import pyspark"
   ]
  },
  {
   "cell_type": "code",
   "execution_count": 3,
   "metadata": {},
   "outputs": [],
   "source": [
    "from pyspark.sql import SparkSession\n",
    "\n",
    "spark = SparkSession \\\n",
    "    .builder \\\n",
    "    .appName(\"Log Processing\") \\\n",
    "    .getOrCreate()"
   ]
  },
  {
   "cell_type": "code",
   "execution_count": 6,
   "metadata": {},
   "outputs": [],
   "source": [
    "df = spark.read \\\n",
    "    .option(\"header\", \"true\") \\\n",
    "    .option(\"mode\", \"DROPMALFORMED\") \\\n",
    "    .option(\"delimiter\",\"\\t\") \\\n",
    "    .csv(\"sample.log\")"
   ]
  },
  {
   "cell_type": "code",
   "execution_count": 7,
   "metadata": {},
   "outputs": [
    {
     "name": "stdout",
     "output_type": "stream",
     "text": [
      "+----------+---------+--------------+--------------------+--------------------+------+----------+\n",
      "|    # date|timestamp|    ip_address|          user_agent|             request|status|byte_range|\n",
      "+----------+---------+--------------+--------------------+--------------------+------+----------+\n",
      "|2020-07-31| 16:46:07| 63.110.194.22|Mozilla/5.0 (Wind...|/6d8a9754-e8c7-41...|   206|     0-289|\n",
      "|2020-07-31| 12:46:09|   95.142.72.8|Mozilla/5.0 (Wind...|/734f46f2-4e54-4f...|   206|     0-362|\n",
      "|2020-07-31| 12:46:11|17.164.224.223|Mozilla/5.0 (Wind...|/92e2666d-fc50-45...|   206|     0-400|\n",
      "|2020-07-31| 12:46:11|208.27.169.249|Mozilla/5.0 (Wind...|/6d8a9754-e8c7-41...|   206|     0-289|\n",
      "|2020-07-31| 12:46:11|  63.213.195.3|Mozilla/5.0 (Wind...|/cd6d50fd-ada7-45...|   206|     0-278|\n",
      "+----------+---------+--------------+--------------------+--------------------+------+----------+\n",
      "only showing top 5 rows\n",
      "\n"
     ]
    }
   ],
   "source": [
    "df.show(5)"
   ]
  },
  {
   "cell_type": "code",
   "execution_count": null,
   "metadata": {},
   "outputs": [],
   "source": []
  },
  {
   "cell_type": "code",
   "execution_count": null,
   "metadata": {},
   "outputs": [],
   "source": []
  },
  {
   "cell_type": "code",
   "execution_count": 36,
   "metadata": {},
   "outputs": [],
   "source": [
    "df = spark.read.load(\"sample.log\",\n",
    "                     format=\"csv\", \n",
    "                     sep=\"\\t\", \n",
    "                     inferSchema=\"true\", \n",
    "                     header=\"true\")"
   ]
  },
  {
   "cell_type": "code",
   "execution_count": 37,
   "metadata": {},
   "outputs": [
    {
     "name": "stdout",
     "output_type": "stream",
     "text": [
      "+-------------------+---------+--------------+--------------------+--------------------+------+----------+\n",
      "|             # date|timestamp|    ip_address|          user_agent|             request|status|byte_range|\n",
      "+-------------------+---------+--------------+--------------------+--------------------+------+----------+\n",
      "|2020-07-31 00:00:00| 16:46:07| 63.110.194.22|Mozilla/5.0 (Wind...|/6d8a9754-e8c7-41...|   206|     0-289|\n",
      "|2020-07-31 00:00:00| 12:46:09|   95.142.72.8|Mozilla/5.0 (Wind...|/734f46f2-4e54-4f...|   206|     0-362|\n",
      "|2020-07-31 00:00:00| 12:46:11|17.164.224.223|Mozilla/5.0 (Wind...|/92e2666d-fc50-45...|   206|     0-400|\n",
      "|2020-07-31 00:00:00| 12:46:11|208.27.169.249|Mozilla/5.0 (Wind...|/6d8a9754-e8c7-41...|   206|     0-289|\n",
      "|2020-07-31 00:00:00| 12:46:11|  63.213.195.3|Mozilla/5.0 (Wind...|/cd6d50fd-ada7-45...|   206|     0-278|\n",
      "+-------------------+---------+--------------+--------------------+--------------------+------+----------+\n",
      "only showing top 5 rows\n",
      "\n"
     ]
    }
   ],
   "source": [
    "df.show(5)"
   ]
  },
  {
   "cell_type": "code",
   "execution_count": null,
   "metadata": {},
   "outputs": [],
   "source": []
  },
  {
   "cell_type": "code",
   "execution_count": null,
   "metadata": {},
   "outputs": [],
   "source": []
  },
  {
   "cell_type": "code",
   "execution_count": null,
   "metadata": {},
   "outputs": [],
   "source": []
  },
  {
   "cell_type": "code",
   "execution_count": null,
   "metadata": {},
   "outputs": [],
   "source": []
  },
  {
   "cell_type": "code",
   "execution_count": null,
   "metadata": {},
   "outputs": [],
   "source": []
  },
  {
   "cell_type": "code",
   "execution_count": null,
   "metadata": {},
   "outputs": [],
   "source": []
  },
  {
   "cell_type": "code",
   "execution_count": null,
   "metadata": {},
   "outputs": [],
   "source": []
  }
 ],
 "metadata": {
  "kernelspec": {
   "display_name": "Python 3",
   "language": "python",
   "name": "python3"
  },
  "language_info": {
   "codemirror_mode": {
    "name": "ipython",
    "version": 3
   },
   "file_extension": ".py",
   "mimetype": "text/x-python",
   "name": "python",
   "nbconvert_exporter": "python",
   "pygments_lexer": "ipython3",
   "version": "3.7.1"
  }
 },
 "nbformat": 4,
 "nbformat_minor": 2
}
